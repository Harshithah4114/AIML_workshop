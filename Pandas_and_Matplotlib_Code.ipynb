{
  "nbformat": 4,
  "nbformat_minor": 0,
  "metadata": {
    "colab": {
      "provenance": [],
      "include_colab_link": true
    },
    "kernelspec": {
      "name": "python3",
      "display_name": "Python 3"
    },
    "language_info": {
      "name": "python"
    }
  },
  "cells": [
    {
      "cell_type": "markdown",
      "metadata": {
        "id": "view-in-github",
        "colab_type": "text"
      },
      "source": [
        "<a href=\"https://colab.research.google.com/github/Harshithah4114/AIML_workshop/blob/main/Pandas_and_Matplotlib_Code.ipynb\" target=\"_parent\"><img src=\"https://colab.research.google.com/assets/colab-badge.svg\" alt=\"Open In Colab\"/></a>"
      ]
    },
    {
      "cell_type": "markdown",
      "source": [
        "Sample Code for learning"
      ],
      "metadata": {
        "id": "pbDlkWlnHdtV"
      }
    },
    {
      "cell_type": "markdown",
      "source": [
        "PANDAS"
      ],
      "metadata": {
        "id": "AI2eAoCkH3Rd"
      }
    },
    {
      "cell_type": "code",
      "source": [
        "###############################################################\n",
        "# Reading and Inspecting the CSV File (with File Upload)\n",
        "###############################################################\n",
        "\n",
        "# 1. Upload the CSV file manually in Google Colab\n",
        "from google.colab import files\n",
        "uploaded = files.upload()\n",
        "# A dialog will pop up, allowing you to select \"sales_data.csv\" from your local machine.\n",
        "\n",
        "import pandas as pd\n",
        "\n",
        "# 2. Read the uploaded CSV file into a DataFrame\n",
        "csv_filename = list(uploaded.keys())[0]  # Extract the filename from the uploaded dict\n",
        "df = pd.read_csv(csv_filename)\n",
        "\n",
        "# 3. Inspect the data\n",
        "print(\"Columns:\", df.columns.tolist())\n",
        "print(\"Shape:\", df.shape)\n",
        "print(\"Missing Values:\\n\", df.isna().sum())\n",
        "\n",
        "# 4. Drop rows with missing values (just as an example)\n",
        "df = df.dropna()\n",
        "\n",
        "# 5. Filter rows where sales > 100\n",
        "df_high_sales = df[df['sales'] > 100]\n",
        "print(\"High sales rows:\\n\", df_high_sales.head())\n",
        "\n",
        "# 6. Print the 5th row by integer index\n",
        "print(\"5th row:\\n\", df.iloc[4])\n",
        "\n",
        "# 7. Filtering based on a column value\n",
        "laptop_df = df[df['product'] == 'Laptop']\n",
        "print(laptop_df.head())\n",
        "\n",
        "# 8. Calculate the total sales across all products\n",
        "print(\"Total sales:\", df['sales'].sum())\n",
        "\n",
        "# 9. Group by product and see total sales per product\n",
        "sales_by_product = df.groupby('product')['sales'].sum()\n",
        "print(\"Sales by product:\\n\", sales_by_product)"
      ],
      "metadata": {
        "id": "mWqNKBeBGwbH"
      },
      "execution_count": null,
      "outputs": []
    },
    {
      "cell_type": "markdown",
      "source": [
        "MATPLOTLIB"
      ],
      "metadata": {
        "id": "HPf1xMHRH5dT"
      }
    },
    {
      "cell_type": "code",
      "source": [
        "from matplotlib import pyplot as plt\n",
        "\n",
        "# Visualize the total sales by product using a bar chart\n",
        "sales_by_product.plot(kind='bar', figsize=(8, 6), color='skyblue')\n",
        "plt.xlabel('Product')\n",
        "plt.ylabel('Total Sales')\n",
        "plt.title('Total Sales by Product')\n",
        "plt.show()"
      ],
      "metadata": {
        "id": "3asX9LUsH8mE"
      },
      "execution_count": null,
      "outputs": []
    },
    {
      "cell_type": "markdown",
      "source": [
        "Code completion tasks"
      ],
      "metadata": {
        "id": "KTFbDMQmHgCG"
      }
    },
    {
      "cell_type": "code",
      "source": [
        "###############################################################\n",
        "# Task 1: Importing and Inspecting the Data (with File Upload)\n",
        "###############################################################\n",
        "\n",
        "from google.colab import files\n",
        "uploaded = files.upload()\n",
        "# A dialog will pop up, allowing you to select \"student_scores.xlsx\" from your local machine.\n",
        "\n",
        "import pandas as pd\n",
        "import matplotlib.pyplot as plt\n",
        "\n",
        "# 1. Read the Excel file into a Pandas DataFrame\n",
        "excel_filename = list(uploaded.keys())[0]\n",
        "\n",
        "df = #COMPLETE CODE\n",
        "\n",
        "# 2. Print the first few rows\n",
        "print(df.head())\n",
        "\n",
        "# 3. Print the columns of the DataFrame\n",
        "print(\"Columns:\", #COMPLETE CODE)\n",
        "\n",
        "###############################################################\n",
        "# Task 2: Simple Data Manipulations\n",
        "###############################################################\n",
        "\n",
        "# 4. Calculate the average Math Score\n",
        "avg_math = #COMPLETE CODE\n",
        "print(\"Average Math Score:\", avg_math)\n",
        "\n",
        "# 5. Create a new column \"TotalScore\"\n",
        "df['TotalScore'] = #COMPLETE CODE\n",
        "\n",
        "# 6. Print basic statistics\n",
        "print(df.describe())\n",
        "\n",
        "###############################################################\n",
        "# Task 3: Visualization\n",
        "###############################################################\n",
        "\n",
        "# 7. Plot a bar chart of students' \"Name\" vs \"TotalScore\"\n",
        "plt.bar(#COMPLETE CODE)\n",
        "plt.xlabel('Students')\n",
        "plt.ylabel('Total Score')\n",
        "plt.title('Total Score by Student')\n",
        "\n",
        "# 8. Show the plot\n",
        "#COMPLETE CODE\n",
        "\n",
        "###############################################################\n",
        "# End of Complete Code\n",
        "###############################################################\n"
      ],
      "metadata": {
        "id": "66tkXS9lHXJO"
      },
      "execution_count": null,
      "outputs": []
    }
  ]
}